{
 "cells": [
  {
   "cell_type": "code",
   "execution_count": 3,
   "metadata": {},
   "outputs": [],
   "source": [
    "import pandas as pd\n",
    "import os\n",
    "import pydicom\n",
    "import shutil\n",
    "import random"
   ]
  },
  {
   "cell_type": "markdown",
   "metadata": {},
   "source": [
    "Define some helper functions"
   ]
  },
  {
   "cell_type": "code",
   "execution_count": 4,
   "metadata": {},
   "outputs": [],
   "source": [
    "def copy_file(source_file, destination_directory, destination_filename):\n",
    "    try:\n",
    "        shutil.copy(source_file, f\"{destination_directory}/{destination_filename}\")\n",
    "    except FileNotFoundError:\n",
    "        print(\"Source file not found.\")\n",
    "    except PermissionError:\n",
    "        print(\"Permission error. Make sure you have the necessary permissions.\")\n",
    "    except shutil.Error as e:\n",
    "        print(f\"An error occurred while moving the file: {e}\")\n",
    "\n",
    "def extract_dicom_tags(dicom_file_path):\n",
    "    # Load and read the DICOM file\n",
    "    dicom_dataset = pydicom.dcmread(dicom_file_path)\n",
    "\n",
    "    # Access DICOM tags as dictionary keys\n",
    "    dicom_tags = {}\n",
    "    for tag in dicom_dataset:\n",
    "        tag_name = tag.name\n",
    "        tag_value = tag.value\n",
    "        dicom_tags[tag_name] = tag_value\n",
    "\n",
    "    return dicom_tags"
   ]
  },
  {
   "cell_type": "markdown",
   "metadata": {},
   "source": [
    "Copy all relevant files from external folder to working directory"
   ]
  },
  {
   "cell_type": "code",
   "execution_count": 10,
   "metadata": {},
   "outputs": [],
   "source": [
    "def process_file(file_path):\n",
    "    # Do something with the file\n",
    "    tags = extract_dicom_tags(file_path)\n",
    "    copy_file(file_path, './data/aisd', tags['SOP Instance UID'] + '.dcm')\n",
    "\n",
    "def process_directory(directory_path):\n",
    "    # Get a list of all files and directories inside the given directory\n",
    "    for entry in os.listdir(directory_path):\n",
    "        full_path = os.path.join(directory_path, entry)\n",
    "\n",
    "        if os.path.isfile(full_path):\n",
    "            # Process the file if it's a regular file\n",
    "            process_file(full_path)\n",
    "\n",
    "        elif os.path.isdir(full_path) and '\\DWI' not in full_path:\n",
    "            # print('Processing directory:', full_path);\n",
    "            # Recursively process the subdirectory if it's a directory\n",
    "            process_directory(full_path)"
   ]
  },
  {
   "cell_type": "code",
   "execution_count": 11,
   "metadata": {},
   "outputs": [],
   "source": [
    "process_directory(f'D:\\MTP\\AISD\\dicom')"
   ]
  },
  {
   "cell_type": "markdown",
   "metadata": {},
   "source": [
    "## Create Tensorflow Object Detection CSV Files & Directory"
   ]
  },
  {
   "cell_type": "code",
   "execution_count": 5,
   "metadata": {},
   "outputs": [
    {
     "name": "stdout",
     "output_type": "stream",
     "text": [
      "Dataset size: 10826\n"
     ]
    }
   ],
   "source": [
    "# Create a list of all image filenames\n",
    "image_filenames = os.listdir('./data/aisd')\n",
    "\n",
    "# Copy files to directory\n",
    "for image_filename in image_filenames:\n",
    "    copy_file(f\"./data/aisd/{image_filename}\", \"./scans\", image_filename)\n",
    "    \n",
    "print(\"Dataset size:\", len(image_filenames))"
   ]
  }
 ],
 "metadata": {
  "kernelspec": {
   "display_name": "tf-lite",
   "language": "python",
   "name": "python3"
  },
  "language_info": {
   "codemirror_mode": {
    "name": "ipython",
    "version": 3
   },
   "file_extension": ".py",
   "mimetype": "text/x-python",
   "name": "python",
   "nbconvert_exporter": "python",
   "pygments_lexer": "ipython3",
   "version": "3.9.17"
  },
  "orig_nbformat": 4
 },
 "nbformat": 4,
 "nbformat_minor": 2
}
